{
 "cells": [
  {
   "cell_type": "code",
   "execution_count": 4,
   "id": "deb1e512-e3eb-4570-9f21-e535f8183746",
   "metadata": {},
   "outputs": [],
   "source": [
    "import pandas as pd\n",
    "import numpy as np\n",
    "from sklearn.model_selection import train_test_split\n",
    "from sklearn.preprocessing import StandardScaler, OneHotEncoder\n",
    "from sklearn.compose import ColumnTransformer\n",
    "from sklearn.pipeline import Pipeline\n",
    "from xgboost import XGBRegressor\n",
    "from sklearn.multioutput import MultiOutputRegressor\n",
    "from sklearn.metrics import mean_squared_error"
   ]
  },
  {
   "cell_type": "code",
   "execution_count": 5,
   "id": "f20cfac6-797d-431e-b7cc-9c5372a6306f",
   "metadata": {},
   "outputs": [],
   "source": [
    "# Read the data from the CSV file\n",
    "d_qml_raw = pd.read_csv('../data/raw/QAOA-Layer-Exploration_runs.csv', index_col=0)"
   ]
  },
  {
   "cell_type": "code",
   "execution_count": 6,
   "id": "9215d264-7d38-4a0b-83d2-c24222108bcc",
   "metadata": {},
   "outputs": [],
   "source": [
    "d_qml_raw.head()\n",
    "# Unpack the params column into separate columns\n",
    "d_qml = pd.concat([d_qml_raw.drop(['params'], axis=1), d_qml_raw['params'].apply(eval).apply(pd.Series)], axis=1)"
   ]
  },
  {
   "cell_type": "markdown",
   "id": "08e11abb",
   "metadata": {},
   "source": []
  },
  {
   "cell_type": "code",
   "execution_count": 7,
   "id": "c8c573a7",
   "metadata": {},
   "outputs": [],
   "source": [
    "graph_features = [\n",
    "    'acyclic',\n",
    "    'algebraic_connectivity',\n",
    "    'average_distance',\n",
    "    'bipartite',\n",
    "    'clique_number',\n",
    "    'coefficient_of_variation',\n",
    "    'connected',\n",
    "    'density',\n",
    "    'diameter',\n",
    "    'edge_connectivity',\n",
    "    'entropy',\n",
    "    'eulerian',\n",
    "    'first_quartile',\n",
    "    'interquartile_range',\n",
    "    'is_distance_regular',\n",
    "    'kurtosis_weight',\n",
    "    'laplacian_largest_eigenvalue',\n",
    "    'laplacian_second_largest_eigenvalue',\n",
    "    'maximum_degree',\n",
    "    'maximum_weighted_degree',\n",
    "    'mean_weight',\n",
    "    'median_weight',\n",
    "    'minimum_degree',\n",
    "    'minimum_dominating_set',\n",
    "    'minimum_weighted_degree',\n",
    "    'number_of_components',\n",
    "    'number_of_cut_vertices',\n",
    "    'number_of_edges',\n",
    "    'number_of_minimal_odd_cycles',\n",
    "    'number_of_orbits',\n",
    "    'number_of_vertices',\n",
    "    'planar',\n",
    "    'radius',\n",
    "    'range_weight',\n",
    "    'ratio_of_two_largest_laplacian_eigenvaleus',\n",
    "    'regular',\n",
    "    'skewness_weight',\n",
    "    'smallest_eigenvalue',\n",
    "    'std_dev_weight',\n",
    "    'third_quartile',\n",
    "    'variance_weight',\n",
    "    'vertex_connectivity',\n",
    "    'weighted_average_clustering',\n",
    "    'weighted_average_shortest_path_length',\n",
    "    'weighted_diameter',\n",
    "    'weighted_radius'\n",
    "]\n",
    "# select the graph features\n",
    "d_features = d_qml[['run_id'] + graph_features] "
   ]
  },
  {
   "cell_type": "code",
   "execution_count": 11,
   "id": "80c0455b",
   "metadata": {},
   "outputs": [
    {
     "data": {
      "text/plain": [
       "{'layer': 2,\n",
       " 'gamma': [-82.62166411505994, -5.285405489169279],\n",
       " 'beta': [27.140365056353623, 8.222685413023193]}"
      ]
     },
     "execution_count": 11,
     "metadata": {},
     "output_type": "execute_result"
    }
   ],
   "source": [
    "import json\n",
    "# Read the QAOA optimal parameters for the graphs based on the run_id\n",
    "def get_optimal_params(run_id, depth=2):\n",
    "    # find the file with the optimal parameters\n",
    "    filepath = f'../optimized_parameters/{run_id}_optimized_parameters.json'\n",
    "    # read the optimal parameters as json\n",
    "    with open(filepath, 'r') as f:\n",
    "        optimal_params = json.load(f)\n",
    "    # return the optimal parameters for a given depth\n",
    "    optimal_params = optimal_params[depth-1]\n",
    "    return optimal_params\n",
    "\n",
    "get_optimal_params(\"5de57b42357f4015a2b713a16bcec195\", 2)\n"
   ]
  },
  {
   "cell_type": "code",
   "execution_count": 12,
   "id": "a61ffd52",
   "metadata": {},
   "outputs": [],
   "source": [
    "# drop duplicates\n",
    "d_features = d_features.drop_duplicates()"
   ]
  },
  {
   "cell_type": "code",
   "execution_count": null,
   "id": "e7dbb990",
   "metadata": {},
   "outputs": [],
   "source": []
  },
  {
   "cell_type": "code",
   "execution_count": 13,
   "id": "d21947f3",
   "metadata": {},
   "outputs": [],
   "source": [
    "d_features['optimal_params'] = d_features['run_id'].apply(lambda x: get_optimal_params(x, 2))"
   ]
  },
  {
   "cell_type": "code",
   "execution_count": 14,
   "id": "1c324869",
   "metadata": {},
   "outputs": [
    {
     "name": "stdout",
     "output_type": "stream",
     "text": [
      "Conducting feature engineering on 1914 samples with 48 features\n",
      "Removed constant feature, 42 features remaining\n"
     ]
    }
   ],
   "source": [
    "print(f\"Conducting feature engineering on {d_features.shape[0]} samples with {d_features.shape[1]} features\")\n",
    "# Extract the features (all columns except 'optimal_params')\n",
    "X = d_features.drop(columns=['run_id', 'optimal_params'])\n",
    "# Remove features that are constant\n",
    "X = X.loc[:, X.apply(pd.Series.nunique) != 1]\n",
    "print(f\"Removed constant feature, {X.shape[1]} features remaining\")\n",
    "bool_columns = X.select_dtypes(include=['bool']).columns\n",
    "# Convert `bool` columns to `int`\n",
    "X[bool_columns] = X[bool_columns].astype(int)"
   ]
  },
  {
   "cell_type": "code",
   "execution_count": 15,
   "id": "f335a895",
   "metadata": {},
   "outputs": [],
   "source": [
    "# Create y as the optimal parameters\n",
    "y = d_features['optimal_params']\n",
    "# Extract the gamma and beta parameters\n",
    "y = pd.DataFrame(y.tolist(), columns=['gamma', 'beta'])\n",
    "# Unlist the optimal parameters into separate columns with `gamma_i` and `beta_i` as column names\n",
    "y = pd.concat([y['gamma'].apply(pd.Series).add_prefix('gamma_'), y['beta'].apply(pd.Series).add_prefix('beta_')], axis=1)\n",
    "# "
   ]
  },
  {
   "cell_type": "code",
   "execution_count": 16,
   "id": "52644ef1",
   "metadata": {},
   "outputs": [],
   "source": [
    "# Split the data into training and test sets\n",
    "X_train, X_test, y_train, y_test = train_test_split(X, y, test_size=0.2, random_state=42)"
   ]
  },
  {
   "cell_type": "code",
   "execution_count": 21,
   "id": "6271534b",
   "metadata": {},
   "outputs": [
    {
     "data": {
      "text/plain": [
       "((1531, 42), (1531, 4))"
      ]
     },
     "execution_count": 21,
     "metadata": {},
     "output_type": "execute_result"
    }
   ],
   "source": [
    "X_train.shape, y_train.shape"
   ]
  },
  {
   "cell_type": "code",
   "execution_count": null,
   "id": "9daedca2",
   "metadata": {},
   "outputs": [],
   "source": []
  },
  {
   "cell_type": "code",
   "execution_count": null,
   "id": "6d4ee0ff",
   "metadata": {},
   "outputs": [],
   "source": []
  },
  {
   "cell_type": "code",
   "execution_count": null,
   "id": "c3f76e25",
   "metadata": {},
   "outputs": [],
   "source": []
  }
 ],
 "metadata": {
  "kernelspec": {
   "display_name": "Python 3 (ipykernel)",
   "language": "python",
   "name": "python3"
  },
  "language_info": {
   "codemirror_mode": {
    "name": "ipython",
    "version": 3
   },
   "file_extension": ".py",
   "mimetype": "text/x-python",
   "name": "python",
   "nbconvert_exporter": "python",
   "pygments_lexer": "ipython3",
   "version": "3.11.9"
  }
 },
 "nbformat": 4,
 "nbformat_minor": 5
}
